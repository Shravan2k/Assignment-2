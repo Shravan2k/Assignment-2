{
 "cells": [
  {
   "cell_type": "markdown",
   "id": "07883cc9",
   "metadata": {},
   "source": [
    "# Q1. How do you comment code in Python? What are the different types of comments?"
   ]
  },
  {
   "cell_type": "markdown",
   "id": "f45c716d",
   "metadata": {},
   "source": [
    "Comments in Python is the inclusion of short descriptions along with the code to increase its readability.\n",
    "There are three types of comments: single-line, multi-line, and docstring comments."
   ]
  },
  {
   "cell_type": "code",
   "execution_count": 10,
   "id": "fa144416",
   "metadata": {},
   "outputs": [
    {
     "name": "stdout",
     "output_type": "stream",
     "text": [
      "5\n"
     ]
    }
   ],
   "source": [
    "a=5             #we will implement comment by # symbol. This will be not execute in the program.\n",
    "\n",
    "print(a)       "
   ]
  },
  {
   "cell_type": "code",
   "execution_count": null,
   "id": "41d90d58",
   "metadata": {},
   "outputs": [],
   "source": []
  },
  {
   "cell_type": "markdown",
   "id": "8bcc2dee",
   "metadata": {},
   "source": [
    "# Q2. What are variables in Python? How do you declare and assign values to variables?"
   ]
  },
  {
   "cell_type": "markdown",
   "id": "aeeadd13",
   "metadata": {},
   "source": [
    "A variable is a string of characters and numbers associated with a piece of information.\n",
    "\n",
    "A variable name must start with a letter or the underscore character. A variable name cannot start with a number. A variable name can only contain alpha-numeric characters and underscores (A-z, 0-9, and _ ) Variable names are case-sensitive (age, Age and AGE are three different variables)"
   ]
  },
  {
   "cell_type": "code",
   "execution_count": 13,
   "id": "2750a512",
   "metadata": {},
   "outputs": [
    {
     "name": "stdout",
     "output_type": "stream",
     "text": [
      "962\n"
     ]
    }
   ],
   "source": [
    "'''Example of declaring and assigning the value to the variable'''\n",
    "\n",
    "Shravan70=962              #Here Shravan70 is variable and 962 is value assigned to it\n",
    "print(Shravan70)"
   ]
  },
  {
   "cell_type": "code",
   "execution_count": null,
   "id": "0c3d0613",
   "metadata": {},
   "outputs": [],
   "source": []
  },
  {
   "cell_type": "markdown",
   "id": "10643f0d",
   "metadata": {},
   "source": [
    "# Q3. How do you convert one data type to another in Python?"
   ]
  },
  {
   "cell_type": "markdown",
   "id": "e7a90685",
   "metadata": {},
   "source": [
    "There are two ways to convert one data type to another in Python: implicit type conversion and explicit type conversion.\n",
    "\n",
    "Implicit type conversion is when the Python interpreter automatically converts one data type to another without any user involvement. For example, if you add a string and an integer, the Python interpreter will automatically convert the string to an integer before performing the addition.\n",
    "\n",
    "Explicit type conversion is when you use a specific function to convert one data type to another. For example, you can use the int() function to convert a string to an integer.\n",
    "\n",
    "Here are some examples of how to convert one data type to another in Python:\n",
    "1.To convert a string to an integer, use the int() function.\n",
    "2.To convert a string to a float, use the float() function.\n",
    "3.To convert an integer to a string, use the str() function.\n",
    "4.To convert a float to a string, use the str() function.\n",
    "5.To convert a list to a tuple, use the tuple() function.\n",
    "6.To convert a tuple to a list, use the list() function.\n",
    "7.To convert a set to a list, use the list() function.\n",
    "8.To convert a dictionary to a list, use the list() function."
   ]
  },
  {
   "cell_type": "code",
   "execution_count": null,
   "id": "df3116a6",
   "metadata": {},
   "outputs": [],
   "source": []
  },
  {
   "cell_type": "markdown",
   "id": "a9aa47b5",
   "metadata": {},
   "source": [
    "# Q4. How do you write and execute a Python script from the command line?"
   ]
  },
  {
   "cell_type": "markdown",
   "id": "299158a5",
   "metadata": {},
   "source": [
    "To write and execute a Python script from the command line need to follow these steps:\n",
    "\n",
    "1.Create a new Python file with a .py extension. For example, you can create a new Python file called \"hello.py\" by typing \"touch hello.py\" in the terminal.\n",
    "\n",
    "2.Open the file in a text editor and write your Python code.\n",
    "\n",
    "3.Save the file.\n",
    "\n",
    "4.Open a terminal window and navigate to the directory where the Python file is located.\n",
    "\n",
    "5.Type \"python hello.py\" and press Enter.\n",
    "\n",
    "This will run the Python script and print the output to the terminal."
   ]
  },
  {
   "cell_type": "code",
   "execution_count": null,
   "id": "575136b5",
   "metadata": {},
   "outputs": [],
   "source": []
  },
  {
   "cell_type": "markdown",
   "id": "59430e66",
   "metadata": {},
   "source": [
    "# Q5. Given a list my_list = [1, 2, 3, 4, 5], write the code to slice the list and obtain the sub-list [2, 3]. "
   ]
  },
  {
   "cell_type": "code",
   "execution_count": 28,
   "id": "e876bf60",
   "metadata": {},
   "outputs": [
    {
     "name": "stdout",
     "output_type": "stream",
     "text": [
      "[2, 3]\n"
     ]
    }
   ],
   "source": [
    "my_list=[1,2,3,4,5]\n",
    "sub_list=my_list[1:3:1];\n",
    "print(sub_list)"
   ]
  },
  {
   "cell_type": "code",
   "execution_count": null,
   "id": "b75d2196",
   "metadata": {},
   "outputs": [],
   "source": []
  },
  {
   "cell_type": "markdown",
   "id": "7533a22b",
   "metadata": {},
   "source": [
    "# Q6. What is a complex number in mathematics, and how is it represented in Python?"
   ]
  },
  {
   "cell_type": "markdown",
   "id": "e04e60a3",
   "metadata": {},
   "source": [
    "A complex number is a number of the form \\(a+bi\\), where \\(a\\) and \\(b\\) are real numbers and \\(i\\) is the imaginary unit. The imaginary unit is defined as \\(\\sqrt{-1}\\). \n",
    "\n",
    "Complex numbers can be represented in Python using the complex() function. "
   ]
  },
  {
   "cell_type": "code",
   "execution_count": 19,
   "id": "a482d911",
   "metadata": {},
   "outputs": [
    {
     "name": "stdout",
     "output_type": "stream",
     "text": [
      "(2+3j)\n"
     ]
    },
    {
     "data": {
      "text/plain": [
       "complex"
      ]
     },
     "execution_count": 19,
     "metadata": {},
     "output_type": "execute_result"
    }
   ],
   "source": [
    "a=complex(2,3)\n",
    "print(a)\n",
    "\n",
    "\n",
    "#or\n",
    "\n",
    "a=2+3j\n",
    "type(a)"
   ]
  },
  {
   "cell_type": "code",
   "execution_count": null,
   "id": "5e887f14",
   "metadata": {},
   "outputs": [],
   "source": []
  },
  {
   "cell_type": "markdown",
   "id": "87565c63",
   "metadata": {},
   "source": [
    "# Q7. What is the correct way to declare a variable named age and assign the value 25 to it?"
   ]
  },
  {
   "cell_type": "code",
   "execution_count": 17,
   "id": "90f3f9e1",
   "metadata": {},
   "outputs": [
    {
     "name": "stdout",
     "output_type": "stream",
     "text": [
      "25\n"
     ]
    }
   ],
   "source": [
    "age=25                    \n",
    "\n",
    "print(age)"
   ]
  },
  {
   "cell_type": "code",
   "execution_count": null,
   "id": "3d2a2aad",
   "metadata": {},
   "outputs": [],
   "source": []
  },
  {
   "cell_type": "markdown",
   "id": "1207c777",
   "metadata": {},
   "source": [
    "# Q8. Declare a variable named price and assign the value 9.99 to it. What data type does this variable belong to?\n",
    "\n"
   ]
  },
  {
   "cell_type": "code",
   "execution_count": 20,
   "id": "b537cd05",
   "metadata": {},
   "outputs": [
    {
     "data": {
      "text/plain": [
       "float"
      ]
     },
     "execution_count": 20,
     "metadata": {},
     "output_type": "execute_result"
    }
   ],
   "source": [
    "#variable=price , value=9.99\n",
    "\n",
    "price=9.99\n",
    "\n",
    "type(price)"
   ]
  },
  {
   "cell_type": "markdown",
   "id": "5693c2f4",
   "metadata": {},
   "source": [
    "Therefore variable price belong to float data type"
   ]
  },
  {
   "cell_type": "code",
   "execution_count": null,
   "id": "ee147aea",
   "metadata": {},
   "outputs": [],
   "source": []
  },
  {
   "cell_type": "markdown",
   "id": "ec0dc082",
   "metadata": {},
   "source": [
    "# Q9. Create a variable named name and assign your full name to it as a string. How would you print the value of this variable?\n"
   ]
  },
  {
   "cell_type": "code",
   "execution_count": 25,
   "id": "d0b3730b",
   "metadata": {},
   "outputs": [
    {
     "name": "stdout",
     "output_type": "stream",
     "text": [
      "Shravankumar Shahajirao Rakhunde\n"
     ]
    }
   ],
   "source": [
    "name=\"Shravankumar Shahajirao Rakhunde\"\n",
    "\n",
    "print(name)"
   ]
  },
  {
   "cell_type": "code",
   "execution_count": null,
   "id": "955e5a8e",
   "metadata": {},
   "outputs": [],
   "source": []
  },
  {
   "cell_type": "markdown",
   "id": "dfaef8d3",
   "metadata": {},
   "source": [
    "# Q10. Given the string \"Hello, World!\", extract the substring \"World\"."
   ]
  },
  {
   "cell_type": "code",
   "execution_count": 27,
   "id": "359289fe",
   "metadata": {},
   "outputs": [
    {
     "data": {
      "text/plain": [
       "'World'"
      ]
     },
     "execution_count": 27,
     "metadata": {},
     "output_type": "execute_result"
    }
   ],
   "source": [
    "string=\"Hello, World!\"\n",
    "string[7:12:1]"
   ]
  },
  {
   "cell_type": "code",
   "execution_count": null,
   "id": "1c5c7bd6",
   "metadata": {},
   "outputs": [],
   "source": []
  },
  {
   "cell_type": "markdown",
   "id": "e4fc5a79",
   "metadata": {},
   "source": [
    "# Q11. Create a variable named \"is_student\" and assign it a boolean value indicating whether you are currently a student or not.\n"
   ]
  },
  {
   "cell_type": "code",
   "execution_count": 32,
   "id": "05909a8c",
   "metadata": {},
   "outputs": [
    {
     "name": "stdout",
     "output_type": "stream",
     "text": [
      "Applicant is student :  True\n"
     ]
    }
   ],
   "source": [
    "is_student=True\n",
    "\n",
    "print(\"Applicant is student : \",is_student)"
   ]
  },
  {
   "cell_type": "code",
   "execution_count": null,
   "id": "8b822418",
   "metadata": {},
   "outputs": [],
   "source": []
  }
 ],
 "metadata": {
  "kernelspec": {
   "display_name": "Python 3 (ipykernel)",
   "language": "python",
   "name": "python3"
  },
  "language_info": {
   "codemirror_mode": {
    "name": "ipython",
    "version": 3
   },
   "file_extension": ".py",
   "mimetype": "text/x-python",
   "name": "python",
   "nbconvert_exporter": "python",
   "pygments_lexer": "ipython3",
   "version": "3.11.5"
  }
 },
 "nbformat": 4,
 "nbformat_minor": 5
}
